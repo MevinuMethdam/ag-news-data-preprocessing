{
 "cells": [
  {
   "cell_type": "code",
   "execution_count": 1,
   "id": "4f14e636-1c0b-44f7-ae77-03a2ca74a18c",
   "metadata": {},
   "outputs": [
    {
     "name": "stdout",
     "output_type": "stream",
     "text": [
      "Train size: 100000 Validation size: 20000\n",
      "Classes: [3 4 2 1]\n"
     ]
    }
   ],
   "source": [
    "import pandas as pd\n",
    "import re\n",
    "from sklearn.model_selection import train_test_split\n",
    "\n",
    "# Load AG News dataset (adjust path & column names if needed)\n",
    "df = pd.read_csv(\"../data/ag_news_train.csv\")   # columns: label, title, description\n",
    "\n",
    "# Merge title + description into one text column\n",
    "df['text'] = (df['title'].fillna('') + \" \" + df['description'].fillna('')).str.lower()\n",
    "\n",
    "# Basic cleaning: remove links and extra spaces\n",
    "df['text'] = df['text'].apply(lambda x: re.sub(r\"http\\S+|www\\.\\S+\", \" \", str(x)))\n",
    "df['text'] = df['text'].str.replace(r\"\\s+\", \" \", regex=True).str.strip()\n",
    "\n",
    "# Split into train/val\n",
    "X_train, X_val, y_train, y_val = train_test_split(\n",
    "    df['text'], df['label'], test_size=0.16666, stratify=df['label'], random_state=42\n",
    ")\n",
    "\n",
    "print(\"Train size:\", len(X_train), \"Validation size:\", len(X_val))\n",
    "print(\"Classes:\", df['label'].unique())"
   ]
  },
  {
   "cell_type": "code",
   "execution_count": 2,
   "id": "77d2e983-f451-4ddc-9707-08f61561fed1",
   "metadata": {},
   "outputs": [],
   "source": [
    "# Compute word_count\n",
    "train_len = X_train.apply(lambda s: len(str(s).split()))\n",
    "val_len   = X_val.apply(lambda s: len(str(s).split()))"
   ]
  },
  {
   "cell_type": "code",
   "execution_count": 7,
   "id": "a5de504b-81cb-4669-a3fe-01458fc78469",
   "metadata": {},
   "outputs": [
    {
     "data": {
      "image/png": "[encoded data removed]",
      "text/plain": [
       "<Figure size 600x400 with 1 Axes>"
      ]
     },
     "metadata": {},
     "output_type": "display_data"
    }
   ],
   "source": [
    "# EDA: boxplot\n",
    "plt.figure(figsize=(6,4))\n",
    "plt.boxplot([train_len], tick_labels=['word_count'])  # fixed\n",
    "plt.title(\"Word count distribution (train)\")\n",
    "plt.ylabel(\"words\")\n",
    "plt.tight_layout(); plt.show()"
   ]
  },
  {
   "cell_type": "code",
   "execution_count": 8,
   "id": "f82c6ed0-07f2-4150-8486-003ac0ae9298",
   "metadata": {},
   "outputs": [
    {
     "name": "stdout",
     "output_type": "stream",
     "text": [
      "IQR filtering thresholds: low<15, high>59\n",
      "Train kept: 97099  /  100000\n"
     ]
    }
   ],
   "source": [
    "# IQR rule on train\n",
    "Q1, Q3 = train_len.quantile(0.25), train_len.quantile(0.75)\n",
    "IQR = Q3 - Q1\n",
    "low_thr, high_thr = max(1, int(Q1 - 1.5*IQR)), int(Q3 + 1.5*IQR)\n",
    "\n",
    "print(f\"IQR filtering thresholds: low<{low_thr}, high>{high_thr}\")\n",
    "\n",
    "keep_mask = (train_len >= low_thr) & (train_len <= high_thr)\n",
    "print(\"Train kept:\", keep_mask.sum(), \" / \", len(keep_mask))\n",
    "\n",
    "X_train_out = X_train[keep_mask]\n",
    "y_train_out = pd.Series(y_train).loc[X_train_out.index]"
   ]
  },
  {
   "cell_type": "code",
   "execution_count": 10,
   "id": "e3b81d5f-8a5e-461b-a501-154e861545ea",
   "metadata": {},
   "outputs": [
    {
     "name": "stdout",
     "output_type": "stream",
     "text": [
      "Shapes -> train: (97099,) val: (20000,)\n"
     ]
    }
   ],
   "source": [
    "print(\"Shapes -> train:\", X_train_out.shape, \"val:\", X_val.shape)"
   ]
  },
  {
   "cell_type": "code",
   "execution_count": null,
   "id": "2717c523-d52d-4f77-a512-7654bc2370d4",
   "metadata": {},
   "outputs": [],
   "source": []
  }
 ],
 "metadata": {
  "kernelspec": {
   "display_name": "Python [conda env:base] *",
   "language": "python",
   "name": "conda-base-py"
  },
  "language_info": {
   "codemirror_mode": {
    "name": "ipython",
    "version": 3
   },
   "file_extension": ".py",
   "mimetype": "text/x-python",
   "name": "python",
   "nbconvert_exporter": "python",
   "pygments_lexer": "ipython3",
   "version": "3.13.5"
  }
 },
 "nbformat": 4,
 "nbformat_minor": 5
}
