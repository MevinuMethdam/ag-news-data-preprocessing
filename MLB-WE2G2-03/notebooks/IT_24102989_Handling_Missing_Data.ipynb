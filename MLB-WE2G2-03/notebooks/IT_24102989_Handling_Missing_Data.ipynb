{
 "cells": [
  {
   "cell_type": "code",
   "execution_count": 5,
   "id": "30d8a752-9e82-4918-b7e4-ca2837fbae3f",
   "metadata": {},
   "outputs": [
    {
     "name": "stdout",
     "output_type": "stream",
     "text": [
      "Train size: 100000 Validation size: 20000\n",
      "Classes: [3 4 2 1]\n"
     ]
    }
   ],
   "source": [
    "import pandas as pd\n",
    "import re\n",
    "from sklearn.model_selection import train_test_split\n",
    "\n",
    "# Load AG News dataset (adjust path & column names if needed)\n",
    "df = pd.read_csv(\"../data/ag_news_train.csv\")   # columns: label, title, description\n",
    "\n",
    "# Merge title + description into one text column\n",
    "df['text'] = (df['title'].fillna('') + \" \" + df['description'].fillna('')).str.lower()\n",
    "\n",
    "# Basic cleaning: remove links and extra spaces\n",
    "df['text'] = df['text'].apply(lambda x: re.sub(r\"http\\S+|www\\.\\S+\", \" \", str(x)))\n",
    "df['text'] = df['text'].str.replace(r\"\\s+\", \" \", regex=True).str.strip()\n",
    "\n",
    "# Split into train/val\n",
    "X_train, X_val, y_train, y_val = train_test_split(\n",
    "    df['text'], df['label'], test_size=0.16666, stratify=df['label'], random_state=42\n",
    ")\n",
    "\n",
    "print(\"Train size:\", len(X_train), \"Validation size:\", len(X_val))\n",
    "print(\"Classes:\", df['label'].unique())\n"
   ]
  },
  {
   "cell_type": "code",
   "execution_count": 6,
   "id": "3ab076a0-27e6-49d3-9315-890c4b9f2b40",
   "metadata": {},
   "outputs": [],
   "source": [
    "import matplotlib.pyplot as plt"
   ]
  },
  {
   "cell_type": "code",
   "execution_count": 8,
   "id": "8185e1ee-afb4-4a15-b114-a48300dc5f4b",
   "metadata": {},
   "outputs": [],
   "source": [
    "# Rebuild a working DF for inspection\n",
    "df_md = pd.DataFrame({ 'text': X_train, 'label': y_train }).copy()"
   ]
  },
  {
   "cell_type": "code",
   "execution_count": 9,
   "id": "76136664-aa64-4d19-809a-e065932b1702",
   "metadata": {},
   "outputs": [
    {
     "name": "stdout",
     "output_type": "stream",
     "text": [
      "Missing values per column:\n",
      " text     0\n",
      "label    0\n",
      "dtype: int64\n"
     ]
    }
   ],
   "source": [
    "# 1) Quantify missing\n",
    "miss_counts = df_md.isnull().sum()\n",
    "print(\"Missing values per column:\\n\", miss_counts)"
   ]
  },
  {
   "cell_type": "code",
   "execution_count": 10,
   "id": "57394987-b59b-418f-b57d-e9cdf216e5a3",
   "metadata": {},
   "outputs": [
    {
     "data": {
      "image/png": "[encoded data removed]",
      "text/plain": [
       "<Figure size 500x300 with 1 Axes>"
      ]
     },
     "metadata": {},
     "output_type": "display_data"
    }
   ],
   "source": [
    "# 2) Visualize missing proportion\n",
    "plt.figure(figsize=(5,3))\n",
    "(miss_counts / len(df_md)).plot(kind='bar')\n",
    "plt.title(\"Missing ratio (train)\")\n",
    "plt.ylabel(\"Ratio\")\n",
    "plt.tight_layout(); plt.show()"
   ]
  },
  {
   "cell_type": "code",
   "execution_count": 11,
   "id": "e6f1a7d7-abde-441b-a185-4396f1841a7e",
   "metadata": {},
   "outputs": [],
   "source": [
    "# 3) Treat missing\n",
    "# - Drop rows with missing labels (critical target)\n",
    "before = len(df_md)\n",
    "df_md = df_md.dropna(subset=['label'])"
   ]
  },
  {
   "cell_type": "code",
   "execution_count": 12,
   "id": "31007196-71d0-4ca3-891a-0c4ab70ae71c",
   "metadata": {},
   "outputs": [],
   "source": [
    "# - Fill missing text with empty string (safe for vectorizers)\n",
    "df_md['text'] = df_md['text'].fillna('')"
   ]
  },
  {
   "cell_type": "code",
   "execution_count": 13,
   "id": "e4e9731c-4ca8-4fa6-85a1-6fbc1de77cb9",
   "metadata": {},
   "outputs": [
    {
     "name": "stdout",
     "output_type": "stream",
     "text": [
      "Rows before: 100000, after cleaning: 100000\n"
     ]
    }
   ],
   "source": [
    "after = len(df_md)\n",
    "print(f\"Rows before: {before}, after cleaning: {after}\")"
   ]
  },
  {
   "cell_type": "code",
   "execution_count": null,
   "id": "59e86f2a-e429-4d20-9d83-f0dee48c61b8",
   "metadata": {},
   "outputs": [],
   "source": []
  }
 ],
 "metadata": {
  "kernelspec": {
   "display_name": "Python [conda env:base] *",
   "language": "python",
   "name": "conda-base-py"
  },
  "language_info": {
   "codemirror_mode": {
    "name": "ipython",
    "version": 3
   },
   "file_extension": ".py",
   "mimetype": "text/x-python",
   "name": "python",
   "nbconvert_exporter": "python",
   "pygments_lexer": "ipython3",
   "version": "3.13.5"
  }
 },
 "nbformat": 4,
 "nbformat_minor": 5
}
